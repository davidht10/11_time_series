{
 "cells": [
  {
   "cell_type": "markdown",
   "metadata": {},
   "source": [
    "# Forecasting Net Prophet\n",
    "\n",
    "You’re a growth analyst at [MercadoLibre](http://investor.mercadolibre.com/investor-relations). With over 200 million users, MercadoLibre is the most popular e-commerce site in Latin America. You've been tasked with analyzing the company's financial and user data in clever ways to make the company grow. So, you want to find out if the ability to predict search traffic can translate into the ability to successfully trade the stock.\n",
    "\n",
    "Instructions\n",
    "\n",
    "This section divides the instructions for this Challenge into four steps and an optional fifth step, as follows:\n",
    "\n",
    "* Step 1: Find unusual patterns in hourly Google search traffic\n",
    "\n",
    "* Step 2: Mine the search traffic data for seasonality\n",
    "\n",
    "* Step 3: Relate the search traffic to stock price patterns\n",
    "\n",
    "* Step 4: Create a time series model with Prophet\n",
    "\n",
    "* Step 5 (optional): Forecast revenue by using time series models\n",
    "\n",
    "The following subsections detail these steps.\n",
    "\n",
    "## Step 1: Find Unusual Patterns in Hourly Google Search Traffic\n",
    "\n",
    "The data science manager asks if the Google search traffic for the company links to any financial events at the company. Or, does the search traffic data just present random noise? To answer this question, pick out any unusual patterns in the Google search data for the company, and connect them to the corporate financial events.\n",
    "\n",
    "To do so, complete the following steps:\n",
    "\n",
    "1. Read the search data into a DataFrame, and then slice the data to just the month of May 2020. (During this month, MercadoLibre released its quarterly financial results.) Use hvPlot to visualize the results. Do any unusual patterns exist?\n",
    "\n",
    "2. Calculate the total search traffic for the month, and then compare the value to the monthly median across all months. Did the Google search traffic increase during the month that MercadoLibre released its financial results?\n",
    "\n",
    "## Step 2: Mine the Search Traffic Data for Seasonality\n",
    "\n",
    "Marketing realizes that they can use the hourly search data, too. If they can track and predict interest in the company and its platform for any time of day, they can focus their marketing efforts around the times that have the most traffic. This will get a greater return on investment (ROI) from their marketing budget.\n",
    "\n",
    "To that end, you want to mine the search traffic data for predictable seasonal patterns of interest in the company. To do so, complete the following steps:\n",
    "\n",
    "1. Group the hourly search data to plot the average traffic by the day of the week (for example, Monday vs. Friday).\n",
    "\n",
    "2. Using hvPlot, visualize this traffic as a heatmap, referencing the `index.hour` as the x-axis and the `index.dayofweek` as the y-axis. Does any day-of-week effect that you observe concentrate in just a few hours of that day?\n",
    "\n",
    "3. Group the search data by the week of the year. Does the search traffic tend to increase during the winter holiday period (weeks 40 through 52)?\n",
    "\n",
    "## Step 3: Relate the Search Traffic to Stock Price Patterns\n",
    "\n",
    "You mention your work on the search traffic data during a meeting with people in the finance group at the company. They want to know if any relationship between the search data and the company stock price exists, and they ask if you can investigate.\n",
    "\n",
    "To do so, complete the following steps:\n",
    "\n",
    "1. Read in and plot the stock price data. Concatenate the stock price data to the search data in a single DataFrame.\n",
    "\n",
    "2. Market events emerged during the year of 2020 that many companies found difficult. But, after the initial shock to global financial markets, new customers and revenue increased for e-commerce platforms. Slice the data to just the first half of 2020 (`2020-01` to `2020-06` in the DataFrame), and then use hvPlot to plot the data. Do both time series indicate a common trend that’s consistent with this narrative?\n",
    "\n",
    "3. Create a new column in the DataFrame named “Lagged Search Trends” that offsets, or shifts, the search traffic by one hour. Create two additional columns:\n",
    "\n",
    "    * “Stock Volatility”, which holds an exponentially weighted four-hour rolling average of the company’s stock volatility\n",
    "\n",
    "    * “Hourly Stock Return”, which holds the percent change of the company's stock price on an hourly basis\n",
    "\n",
    "4. Review the time series correlation, and then answer the following question: Does a predictable relationship exist between the lagged search traffic and the stock volatility or between the lagged search traffic and the stock price returns?\n",
    "\n",
    "## Step 4: Create a Time Series Model with Prophet\n",
    "\n",
    "Now, you need to produce a time series model that analyzes and forecasts patterns in the hourly search data. To do so, complete the following steps:\n",
    "\n",
    "1. Set up the Google search data for a Prophet forecasting model.\n",
    "\n",
    "2. After estimating the model, plot the forecast. How's the near-term forecast for the popularity of MercadoLibre?\n",
    "\n",
    "3. Plot the individual time series components of the model to answer the following questions:\n",
    "\n",
    "    * What time of day exhibits the greatest popularity?\n",
    "\n",
    "    * Which day of the week gets the most search traffic?\n",
    "\n",
    "    * What's the lowest point for search traffic in the calendar year?\n",
    "\n",
    "## Step 5 (Optional): Forecast Revenue by Using Time Series Models\n",
    "\n",
    "A few weeks after your initial analysis, the finance group follows up to find out if you can help them solve a different problem. Your fame as a growth analyst in the company continues to grow!\n",
    "\n",
    "Specifically, the finance group wants a forecast of the total sales for the next quarter. This will dramatically increase their ability to plan budgets and to help guide expectations for the company investors.\n",
    "\n",
    "To do so, complete the following steps:\n",
    "\n",
    "1. Read in the daily historical sales (that is, revenue) figures, and then apply a Prophet model to the data.\n",
    "\n",
    "2. Interpret the model output to identify any seasonal patterns in the company's revenue. For example, what are the peak revenue days? (Mondays? Fridays? Something else?)\n",
    "\n",
    "3. Produce a sales forecast for the finance group. Give them a number for the expected total sales in the next quarter. Include the best- and worst-case scenarios to help them make better plans.\n"
   ]
  },
  {
   "cell_type": "markdown",
   "metadata": {},
   "source": [
    "## Install and import the required libraries and dependencies"
   ]
  },
  {
   "cell_type": "code",
   "execution_count": 1,
   "metadata": {
    "tags": []
   },
   "outputs": [
    {
     "name": "stdout",
     "output_type": "stream",
     "text": [
      "Requirement already satisfied: pystan in /Users/davidtaylor/anaconda3/envs/dev/lib/python3.10/site-packages (3.7.0)\n",
      "Requirement already satisfied: aiohttp<4.0,>=3.6 in /Users/davidtaylor/anaconda3/envs/dev/lib/python3.10/site-packages (from pystan) (3.8.2)\n",
      "Requirement already satisfied: clikit<0.7,>=0.6 in /Users/davidtaylor/anaconda3/envs/dev/lib/python3.10/site-packages (from pystan) (0.6.2)\n",
      "Requirement already satisfied: httpstan<4.11,>=4.10 in /Users/davidtaylor/anaconda3/envs/dev/lib/python3.10/site-packages (from pystan) (4.10.0)\n",
      "Requirement already satisfied: numpy<2.0,>=1.19 in /Users/davidtaylor/anaconda3/envs/dev/lib/python3.10/site-packages (from pystan) (1.24.3)\n",
      "Requirement already satisfied: pysimdjson<6.0.0,>=5.0.2 in /Users/davidtaylor/anaconda3/envs/dev/lib/python3.10/site-packages (from pystan) (5.0.2)\n",
      "Requirement already satisfied: setuptools in /Users/davidtaylor/anaconda3/envs/dev/lib/python3.10/site-packages (from pystan) (68.0.0)\n",
      "Requirement already satisfied: attrs>=17.3.0 in /Users/davidtaylor/anaconda3/envs/dev/lib/python3.10/site-packages (from aiohttp<4.0,>=3.6->pystan) (22.1.0)\n",
      "Requirement already satisfied: charset-normalizer<3.0,>=2.0 in /Users/davidtaylor/anaconda3/envs/dev/lib/python3.10/site-packages (from aiohttp<4.0,>=3.6->pystan) (2.0.4)\n",
      "Requirement already satisfied: multidict<6.0,>=4.5 in /Users/davidtaylor/anaconda3/envs/dev/lib/python3.10/site-packages (from aiohttp<4.0,>=3.6->pystan) (5.2.0)\n",
      "Requirement already satisfied: async-timeout<5.0,>=4.0.0a3 in /Users/davidtaylor/anaconda3/envs/dev/lib/python3.10/site-packages (from aiohttp<4.0,>=3.6->pystan) (4.0.2)\n",
      "Requirement already satisfied: yarl<2.0,>=1.0 in /Users/davidtaylor/anaconda3/envs/dev/lib/python3.10/site-packages (from aiohttp<4.0,>=3.6->pystan) (1.8.1)\n",
      "Requirement already satisfied: frozenlist>=1.1.1 in /Users/davidtaylor/anaconda3/envs/dev/lib/python3.10/site-packages (from aiohttp<4.0,>=3.6->pystan) (1.3.3)\n",
      "Requirement already satisfied: aiosignal>=1.1.2 in /Users/davidtaylor/anaconda3/envs/dev/lib/python3.10/site-packages (from aiohttp<4.0,>=3.6->pystan) (1.2.0)\n",
      "Requirement already satisfied: crashtest<0.4.0,>=0.3.0 in /Users/davidtaylor/anaconda3/envs/dev/lib/python3.10/site-packages (from clikit<0.7,>=0.6->pystan) (0.3.1)\n",
      "Requirement already satisfied: pastel<0.3.0,>=0.2.0 in /Users/davidtaylor/anaconda3/envs/dev/lib/python3.10/site-packages (from clikit<0.7,>=0.6->pystan) (0.2.1)\n",
      "Requirement already satisfied: pylev<2.0,>=1.3 in /Users/davidtaylor/anaconda3/envs/dev/lib/python3.10/site-packages (from clikit<0.7,>=0.6->pystan) (1.4.0)\n",
      "Requirement already satisfied: appdirs<2.0,>=1.4 in /Users/davidtaylor/anaconda3/envs/dev/lib/python3.10/site-packages (from httpstan<4.11,>=4.10->pystan) (1.4.4)\n",
      "Requirement already satisfied: marshmallow<4.0,>=3.10 in /Users/davidtaylor/anaconda3/envs/dev/lib/python3.10/site-packages (from httpstan<4.11,>=4.10->pystan) (3.20.1)\n",
      "Requirement already satisfied: webargs<9.0,>=8.0 in /Users/davidtaylor/anaconda3/envs/dev/lib/python3.10/site-packages (from httpstan<4.11,>=4.10->pystan) (8.3.0)\n",
      "Requirement already satisfied: packaging>=17.0 in /Users/davidtaylor/anaconda3/envs/dev/lib/python3.10/site-packages (from marshmallow<4.0,>=3.10->httpstan<4.11,>=4.10->pystan) (23.1)\n",
      "Requirement already satisfied: idna>=2.0 in /Users/davidtaylor/anaconda3/envs/dev/lib/python3.10/site-packages (from yarl<2.0,>=1.0->aiohttp<4.0,>=3.6->pystan) (3.4)\n",
      "Requirement already satisfied: prophet in /Users/davidtaylor/anaconda3/envs/dev/lib/python3.10/site-packages (1.1.2)\n",
      "Requirement already satisfied: cmdstanpy>=1.0.4 in /Users/davidtaylor/anaconda3/envs/dev/lib/python3.10/site-packages (from prophet) (1.2.0)\n",
      "Requirement already satisfied: numpy>=1.15.4 in /Users/davidtaylor/anaconda3/envs/dev/lib/python3.10/site-packages (from prophet) (1.24.3)\n",
      "Requirement already satisfied: matplotlib>=2.0.0 in /Users/davidtaylor/anaconda3/envs/dev/lib/python3.10/site-packages (from prophet) (3.7.2)\n",
      "Requirement already satisfied: pandas>=1.0.4 in /Users/davidtaylor/anaconda3/envs/dev/lib/python3.10/site-packages (from prophet) (2.0.3)\n",
      "Requirement already satisfied: LunarCalendar>=0.0.9 in /Users/davidtaylor/anaconda3/envs/dev/lib/python3.10/site-packages (from prophet) (0.0.9)\n",
      "Requirement already satisfied: convertdate>=2.1.2 in /Users/davidtaylor/anaconda3/envs/dev/lib/python3.10/site-packages (from prophet) (2.4.0)\n",
      "Requirement already satisfied: holidays>=0.14.2 in /Users/davidtaylor/anaconda3/envs/dev/lib/python3.10/site-packages (from prophet) (0.40)\n",
      "Requirement already satisfied: python-dateutil>=2.8.0 in /Users/davidtaylor/anaconda3/envs/dev/lib/python3.10/site-packages (from prophet) (2.8.2)\n",
      "Requirement already satisfied: tqdm>=4.36.1 in /Users/davidtaylor/anaconda3/envs/dev/lib/python3.10/site-packages (from prophet) (4.65.0)\n",
      "Requirement already satisfied: stanio~=0.3.0 in /Users/davidtaylor/anaconda3/envs/dev/lib/python3.10/site-packages (from cmdstanpy>=1.0.4->prophet) (0.3.0)\n",
      "Requirement already satisfied: pymeeus<=1,>=0.3.13 in /Users/davidtaylor/anaconda3/envs/dev/lib/python3.10/site-packages (from convertdate>=2.1.2->prophet) (0.5.12)\n",
      "Requirement already satisfied: ephem>=3.7.5.3 in /Users/davidtaylor/anaconda3/envs/dev/lib/python3.10/site-packages (from LunarCalendar>=0.0.9->prophet) (4.1.5)\n",
      "Requirement already satisfied: pytz in /Users/davidtaylor/anaconda3/envs/dev/lib/python3.10/site-packages (from LunarCalendar>=0.0.9->prophet) (2023.3.post1)\n",
      "Requirement already satisfied: contourpy>=1.0.1 in /Users/davidtaylor/anaconda3/envs/dev/lib/python3.10/site-packages (from matplotlib>=2.0.0->prophet) (1.0.5)\n",
      "Requirement already satisfied: cycler>=0.10 in /Users/davidtaylor/anaconda3/envs/dev/lib/python3.10/site-packages (from matplotlib>=2.0.0->prophet) (0.11.0)\n",
      "Requirement already satisfied: fonttools>=4.22.0 in /Users/davidtaylor/anaconda3/envs/dev/lib/python3.10/site-packages (from matplotlib>=2.0.0->prophet) (4.25.0)\n",
      "Requirement already satisfied: kiwisolver>=1.0.1 in /Users/davidtaylor/anaconda3/envs/dev/lib/python3.10/site-packages (from matplotlib>=2.0.0->prophet) (1.4.4)\n",
      "Requirement already satisfied: packaging>=20.0 in /Users/davidtaylor/anaconda3/envs/dev/lib/python3.10/site-packages (from matplotlib>=2.0.0->prophet) (23.1)\n",
      "Requirement already satisfied: pillow>=6.2.0 in /Users/davidtaylor/anaconda3/envs/dev/lib/python3.10/site-packages (from matplotlib>=2.0.0->prophet) (9.4.0)\n",
      "Requirement already satisfied: pyparsing<3.1,>=2.3.1 in /Users/davidtaylor/anaconda3/envs/dev/lib/python3.10/site-packages (from matplotlib>=2.0.0->prophet) (3.0.9)\n",
      "Requirement already satisfied: tzdata>=2022.1 in /Users/davidtaylor/anaconda3/envs/dev/lib/python3.10/site-packages (from pandas>=1.0.4->prophet) (2023.3)\n",
      "Requirement already satisfied: six>=1.5 in /Users/davidtaylor/anaconda3/envs/dev/lib/python3.10/site-packages (from python-dateutil>=2.8.0->prophet) (1.16.0)\n",
      "Requirement already satisfied: hvplot in /Users/davidtaylor/anaconda3/envs/dev/lib/python3.10/site-packages (0.8.4)\n",
      "Requirement already satisfied: bokeh>=1.0.0 in /Users/davidtaylor/anaconda3/envs/dev/lib/python3.10/site-packages (from hvplot) (3.2.1)\n",
      "Requirement already satisfied: colorcet>=2 in /Users/davidtaylor/anaconda3/envs/dev/lib/python3.10/site-packages (from hvplot) (3.0.1)\n",
      "Requirement already satisfied: holoviews>=1.11.0 in /Users/davidtaylor/anaconda3/envs/dev/lib/python3.10/site-packages (from hvplot) (1.17.1)\n",
      "Requirement already satisfied: pandas in /Users/davidtaylor/anaconda3/envs/dev/lib/python3.10/site-packages (from hvplot) (2.0.3)\n",
      "Requirement already satisfied: numpy>=1.15 in /Users/davidtaylor/anaconda3/envs/dev/lib/python3.10/site-packages (from hvplot) (1.24.3)\n",
      "Requirement already satisfied: packaging in /Users/davidtaylor/anaconda3/envs/dev/lib/python3.10/site-packages (from hvplot) (23.1)\n",
      "Requirement already satisfied: panel>=0.11.0 in /Users/davidtaylor/anaconda3/envs/dev/lib/python3.10/site-packages (from hvplot) (1.2.3)\n",
      "Requirement already satisfied: param>=1.9.0 in /Users/davidtaylor/anaconda3/envs/dev/lib/python3.10/site-packages (from hvplot) (1.13.0)\n",
      "Requirement already satisfied: Jinja2>=2.9 in /Users/davidtaylor/anaconda3/envs/dev/lib/python3.10/site-packages (from bokeh>=1.0.0->hvplot) (3.1.2)\n",
      "Requirement already satisfied: contourpy>=1 in /Users/davidtaylor/anaconda3/envs/dev/lib/python3.10/site-packages (from bokeh>=1.0.0->hvplot) (1.0.5)\n",
      "Requirement already satisfied: pillow>=7.1.0 in /Users/davidtaylor/anaconda3/envs/dev/lib/python3.10/site-packages (from bokeh>=1.0.0->hvplot) (9.4.0)\n",
      "Requirement already satisfied: PyYAML>=3.10 in /Users/davidtaylor/anaconda3/envs/dev/lib/python3.10/site-packages (from bokeh>=1.0.0->hvplot) (6.0)\n",
      "Requirement already satisfied: tornado>=5.1 in /Users/davidtaylor/anaconda3/envs/dev/lib/python3.10/site-packages (from bokeh>=1.0.0->hvplot) (6.3.2)\n",
      "Requirement already satisfied: xyzservices>=2021.09.1 in /Users/davidtaylor/anaconda3/envs/dev/lib/python3.10/site-packages (from bokeh>=1.0.0->hvplot) (2022.9.0)\n",
      "Requirement already satisfied: pyct>=0.4.4 in /Users/davidtaylor/anaconda3/envs/dev/lib/python3.10/site-packages (from colorcet>=2->hvplot) (0.5.0)\n",
      "Requirement already satisfied: pyviz-comms>=0.7.4 in /Users/davidtaylor/anaconda3/envs/dev/lib/python3.10/site-packages (from holoviews>=1.11.0->hvplot) (2.3.0)\n",
      "Requirement already satisfied: python-dateutil>=2.8.2 in /Users/davidtaylor/anaconda3/envs/dev/lib/python3.10/site-packages (from pandas->hvplot) (2.8.2)\n",
      "Requirement already satisfied: pytz>=2020.1 in /Users/davidtaylor/anaconda3/envs/dev/lib/python3.10/site-packages (from pandas->hvplot) (2023.3.post1)\n",
      "Requirement already satisfied: tzdata>=2022.1 in /Users/davidtaylor/anaconda3/envs/dev/lib/python3.10/site-packages (from pandas->hvplot) (2023.3)\n",
      "Requirement already satisfied: markdown in /Users/davidtaylor/anaconda3/envs/dev/lib/python3.10/site-packages (from panel>=0.11.0->hvplot) (3.4.1)\n",
      "Requirement already satisfied: markdown-it-py in /Users/davidtaylor/anaconda3/envs/dev/lib/python3.10/site-packages (from panel>=0.11.0->hvplot) (2.2.0)\n",
      "Requirement already satisfied: linkify-it-py in /Users/davidtaylor/anaconda3/envs/dev/lib/python3.10/site-packages (from panel>=0.11.0->hvplot) (2.0.0)\n",
      "Requirement already satisfied: mdit-py-plugins in /Users/davidtaylor/anaconda3/envs/dev/lib/python3.10/site-packages (from panel>=0.11.0->hvplot) (0.3.0)\n",
      "Requirement already satisfied: requests in /Users/davidtaylor/anaconda3/envs/dev/lib/python3.10/site-packages (from panel>=0.11.0->hvplot) (2.31.0)\n",
      "Requirement already satisfied: tqdm>=4.48.0 in /Users/davidtaylor/anaconda3/envs/dev/lib/python3.10/site-packages (from panel>=0.11.0->hvplot) (4.65.0)\n",
      "Requirement already satisfied: bleach in /Users/davidtaylor/anaconda3/envs/dev/lib/python3.10/site-packages (from panel>=0.11.0->hvplot) (4.1.0)\n",
      "Requirement already satisfied: typing-extensions in /Users/davidtaylor/anaconda3/envs/dev/lib/python3.10/site-packages (from panel>=0.11.0->hvplot) (4.7.1)\n",
      "Requirement already satisfied: MarkupSafe>=2.0 in /Users/davidtaylor/anaconda3/envs/dev/lib/python3.10/site-packages (from Jinja2>=2.9->bokeh>=1.0.0->hvplot) (2.1.1)\n",
      "Requirement already satisfied: six>=1.5 in /Users/davidtaylor/anaconda3/envs/dev/lib/python3.10/site-packages (from python-dateutil>=2.8.2->pandas->hvplot) (1.16.0)\n",
      "Requirement already satisfied: webencodings in /Users/davidtaylor/anaconda3/envs/dev/lib/python3.10/site-packages (from bleach->panel>=0.11.0->hvplot) (0.5.1)\n",
      "Requirement already satisfied: uc-micro-py in /Users/davidtaylor/anaconda3/envs/dev/lib/python3.10/site-packages (from linkify-it-py->panel>=0.11.0->hvplot) (1.0.1)\n",
      "Requirement already satisfied: mdurl~=0.1 in /Users/davidtaylor/anaconda3/envs/dev/lib/python3.10/site-packages (from markdown-it-py->panel>=0.11.0->hvplot) (0.1.0)\n",
      "Requirement already satisfied: charset-normalizer<4,>=2 in /Users/davidtaylor/anaconda3/envs/dev/lib/python3.10/site-packages (from requests->panel>=0.11.0->hvplot) (2.0.4)\n",
      "Requirement already satisfied: idna<4,>=2.5 in /Users/davidtaylor/anaconda3/envs/dev/lib/python3.10/site-packages (from requests->panel>=0.11.0->hvplot) (3.4)\n",
      "Requirement already satisfied: urllib3<3,>=1.21.1 in /Users/davidtaylor/anaconda3/envs/dev/lib/python3.10/site-packages (from requests->panel>=0.11.0->hvplot) (1.26.16)\n",
      "Requirement already satisfied: certifi>=2017.4.17 in /Users/davidtaylor/anaconda3/envs/dev/lib/python3.10/site-packages (from requests->panel>=0.11.0->hvplot) (2023.7.22)\n",
      "Requirement already satisfied: holoviews in /Users/davidtaylor/anaconda3/envs/dev/lib/python3.10/site-packages (1.17.1)\n",
      "Requirement already satisfied: param<3.0,>=1.12.0 in /Users/davidtaylor/anaconda3/envs/dev/lib/python3.10/site-packages (from holoviews) (1.13.0)\n",
      "Requirement already satisfied: numpy>=1.0 in /Users/davidtaylor/anaconda3/envs/dev/lib/python3.10/site-packages (from holoviews) (1.24.3)\n",
      "Requirement already satisfied: pyviz-comms>=0.7.4 in /Users/davidtaylor/anaconda3/envs/dev/lib/python3.10/site-packages (from holoviews) (2.3.0)\n",
      "Requirement already satisfied: panel>=0.13.1 in /Users/davidtaylor/anaconda3/envs/dev/lib/python3.10/site-packages (from holoviews) (1.2.3)\n",
      "Requirement already satisfied: colorcet in /Users/davidtaylor/anaconda3/envs/dev/lib/python3.10/site-packages (from holoviews) (3.0.1)\n",
      "Requirement already satisfied: packaging in /Users/davidtaylor/anaconda3/envs/dev/lib/python3.10/site-packages (from holoviews) (23.1)\n",
      "Requirement already satisfied: pandas>=0.20.0 in /Users/davidtaylor/anaconda3/envs/dev/lib/python3.10/site-packages (from holoviews) (2.0.3)\n",
      "Requirement already satisfied: python-dateutil>=2.8.2 in /Users/davidtaylor/anaconda3/envs/dev/lib/python3.10/site-packages (from pandas>=0.20.0->holoviews) (2.8.2)\n",
      "Requirement already satisfied: pytz>=2020.1 in /Users/davidtaylor/anaconda3/envs/dev/lib/python3.10/site-packages (from pandas>=0.20.0->holoviews) (2023.3.post1)\n",
      "Requirement already satisfied: tzdata>=2022.1 in /Users/davidtaylor/anaconda3/envs/dev/lib/python3.10/site-packages (from pandas>=0.20.0->holoviews) (2023.3)\n",
      "Requirement already satisfied: bokeh<3.3.0,>=3.1.1 in /Users/davidtaylor/anaconda3/envs/dev/lib/python3.10/site-packages (from panel>=0.13.1->holoviews) (3.2.1)\n",
      "Requirement already satisfied: xyzservices>=2021.09.1 in /Users/davidtaylor/anaconda3/envs/dev/lib/python3.10/site-packages (from panel>=0.13.1->holoviews) (2022.9.0)\n",
      "Requirement already satisfied: markdown in /Users/davidtaylor/anaconda3/envs/dev/lib/python3.10/site-packages (from panel>=0.13.1->holoviews) (3.4.1)\n",
      "Requirement already satisfied: markdown-it-py in /Users/davidtaylor/anaconda3/envs/dev/lib/python3.10/site-packages (from panel>=0.13.1->holoviews) (2.2.0)\n",
      "Requirement already satisfied: linkify-it-py in /Users/davidtaylor/anaconda3/envs/dev/lib/python3.10/site-packages (from panel>=0.13.1->holoviews) (2.0.0)\n",
      "Requirement already satisfied: mdit-py-plugins in /Users/davidtaylor/anaconda3/envs/dev/lib/python3.10/site-packages (from panel>=0.13.1->holoviews) (0.3.0)\n",
      "Requirement already satisfied: requests in /Users/davidtaylor/anaconda3/envs/dev/lib/python3.10/site-packages (from panel>=0.13.1->holoviews) (2.31.0)\n",
      "Requirement already satisfied: tqdm>=4.48.0 in /Users/davidtaylor/anaconda3/envs/dev/lib/python3.10/site-packages (from panel>=0.13.1->holoviews) (4.65.0)\n",
      "Requirement already satisfied: bleach in /Users/davidtaylor/anaconda3/envs/dev/lib/python3.10/site-packages (from panel>=0.13.1->holoviews) (4.1.0)\n",
      "Requirement already satisfied: typing-extensions in /Users/davidtaylor/anaconda3/envs/dev/lib/python3.10/site-packages (from panel>=0.13.1->holoviews) (4.7.1)\n",
      "Requirement already satisfied: pyct>=0.4.4 in /Users/davidtaylor/anaconda3/envs/dev/lib/python3.10/site-packages (from colorcet->holoviews) (0.5.0)\n",
      "Requirement already satisfied: Jinja2>=2.9 in /Users/davidtaylor/anaconda3/envs/dev/lib/python3.10/site-packages (from bokeh<3.3.0,>=3.1.1->panel>=0.13.1->holoviews) (3.1.2)\n",
      "Requirement already satisfied: contourpy>=1 in /Users/davidtaylor/anaconda3/envs/dev/lib/python3.10/site-packages (from bokeh<3.3.0,>=3.1.1->panel>=0.13.1->holoviews) (1.0.5)\n",
      "Requirement already satisfied: pillow>=7.1.0 in /Users/davidtaylor/anaconda3/envs/dev/lib/python3.10/site-packages (from bokeh<3.3.0,>=3.1.1->panel>=0.13.1->holoviews) (9.4.0)\n",
      "Requirement already satisfied: PyYAML>=3.10 in /Users/davidtaylor/anaconda3/envs/dev/lib/python3.10/site-packages (from bokeh<3.3.0,>=3.1.1->panel>=0.13.1->holoviews) (6.0)\n",
      "Requirement already satisfied: tornado>=5.1 in /Users/davidtaylor/anaconda3/envs/dev/lib/python3.10/site-packages (from bokeh<3.3.0,>=3.1.1->panel>=0.13.1->holoviews) (6.3.2)\n",
      "Requirement already satisfied: six>=1.5 in /Users/davidtaylor/anaconda3/envs/dev/lib/python3.10/site-packages (from python-dateutil>=2.8.2->pandas>=0.20.0->holoviews) (1.16.0)\n",
      "Requirement already satisfied: webencodings in /Users/davidtaylor/anaconda3/envs/dev/lib/python3.10/site-packages (from bleach->panel>=0.13.1->holoviews) (0.5.1)\n",
      "Requirement already satisfied: uc-micro-py in /Users/davidtaylor/anaconda3/envs/dev/lib/python3.10/site-packages (from linkify-it-py->panel>=0.13.1->holoviews) (1.0.1)\n",
      "Requirement already satisfied: mdurl~=0.1 in /Users/davidtaylor/anaconda3/envs/dev/lib/python3.10/site-packages (from markdown-it-py->panel>=0.13.1->holoviews) (0.1.0)\n",
      "Requirement already satisfied: charset-normalizer<4,>=2 in /Users/davidtaylor/anaconda3/envs/dev/lib/python3.10/site-packages (from requests->panel>=0.13.1->holoviews) (2.0.4)\n",
      "Requirement already satisfied: idna<4,>=2.5 in /Users/davidtaylor/anaconda3/envs/dev/lib/python3.10/site-packages (from requests->panel>=0.13.1->holoviews) (3.4)\n",
      "Requirement already satisfied: urllib3<3,>=1.21.1 in /Users/davidtaylor/anaconda3/envs/dev/lib/python3.10/site-packages (from requests->panel>=0.13.1->holoviews) (1.26.16)\n",
      "Requirement already satisfied: certifi>=2017.4.17 in /Users/davidtaylor/anaconda3/envs/dev/lib/python3.10/site-packages (from requests->panel>=0.13.1->holoviews) (2023.7.22)\n",
      "Requirement already satisfied: MarkupSafe>=2.0 in /Users/davidtaylor/anaconda3/envs/dev/lib/python3.10/site-packages (from Jinja2>=2.9->bokeh<3.3.0,>=3.1.1->panel>=0.13.1->holoviews) (2.1.1)\n"
     ]
    }
   ],
   "source": [
    "# Install the required libraries\n",
    "!pip install pystan\n",
    "!pip install prophet\n",
    "!pip install hvplot\n",
    "!pip install holoviews"
   ]
  },
  {
   "cell_type": "code",
   "execution_count": 4,
   "metadata": {
    "tags": []
   },
   "outputs": [
    {
     "ename": "TypeError",
     "evalue": "This is a python-holidays entity loader class. For entity inheritance purposes please import a class you want to derive from directly: e.g., `from holidays.countries import Entity` or `from holidays.financial import Entity`.",
     "output_type": "error",
     "traceback": [
      "\u001b[0;31m---------------------------------------------------------------------------\u001b[0m",
      "\u001b[0;31mTypeError\u001b[0m                                 Traceback (most recent call last)",
      "Cell \u001b[0;32mIn[4], line 4\u001b[0m\n\u001b[1;32m      2\u001b[0m \u001b[38;5;28;01mimport\u001b[39;00m \u001b[38;5;21;01mpandas\u001b[39;00m \u001b[38;5;28;01mas\u001b[39;00m \u001b[38;5;21;01mpd\u001b[39;00m\n\u001b[1;32m      3\u001b[0m \u001b[38;5;28;01mimport\u001b[39;00m \u001b[38;5;21;01mholoviews\u001b[39;00m \u001b[38;5;28;01mas\u001b[39;00m \u001b[38;5;21;01mhv\u001b[39;00m\n\u001b[0;32m----> 4\u001b[0m \u001b[38;5;28;01mfrom\u001b[39;00m \u001b[38;5;21;01mprophet\u001b[39;00m \u001b[38;5;28;01mimport\u001b[39;00m Prophet\n\u001b[1;32m      5\u001b[0m \u001b[38;5;28;01mimport\u001b[39;00m \u001b[38;5;21;01mhvplot\u001b[39;00m\u001b[38;5;21;01m.\u001b[39;00m\u001b[38;5;21;01mpandas\u001b[39;00m\n\u001b[1;32m      6\u001b[0m \u001b[38;5;28;01mimport\u001b[39;00m \u001b[38;5;21;01mdatetime\u001b[39;00m \u001b[38;5;28;01mas\u001b[39;00m \u001b[38;5;21;01mdt\u001b[39;00m\n",
      "File \u001b[0;32m~/anaconda3/envs/dev/lib/python3.10/site-packages/prophet/__init__.py:7\u001b[0m\n\u001b[1;32m      1\u001b[0m \u001b[38;5;66;03m# Copyright (c) 2017-present, Facebook, Inc.\u001b[39;00m\n\u001b[1;32m      2\u001b[0m \u001b[38;5;66;03m# All rights reserved.\u001b[39;00m\n\u001b[1;32m      3\u001b[0m \u001b[38;5;66;03m#\u001b[39;00m\n\u001b[1;32m      4\u001b[0m \u001b[38;5;66;03m# This source code is licensed under the BSD-style license found in the\u001b[39;00m\n\u001b[1;32m      5\u001b[0m \u001b[38;5;66;03m# LICENSE file in the root directory of this source tree. An additional grant\u001b[39;00m\n\u001b[1;32m      6\u001b[0m \u001b[38;5;66;03m# of patent rights can be found in the PATENTS file in the same directory.\u001b[39;00m\n\u001b[0;32m----> 7\u001b[0m \u001b[38;5;28;01mfrom\u001b[39;00m \u001b[38;5;21;01mprophet\u001b[39;00m\u001b[38;5;21;01m.\u001b[39;00m\u001b[38;5;21;01mforecaster\u001b[39;00m \u001b[38;5;28;01mimport\u001b[39;00m Prophet\n\u001b[1;32m      9\u001b[0m \u001b[38;5;28;01mfrom\u001b[39;00m \u001b[38;5;21;01mpathlib\u001b[39;00m \u001b[38;5;28;01mimport\u001b[39;00m Path\n\u001b[1;32m     10\u001b[0m about \u001b[38;5;241m=\u001b[39m {}\n",
      "File \u001b[0;32m~/anaconda3/envs/dev/lib/python3.10/site-packages/prophet/forecaster.py:19\u001b[0m\n\u001b[1;32m     16\u001b[0m \u001b[38;5;28;01mimport\u001b[39;00m \u001b[38;5;21;01mpandas\u001b[39;00m \u001b[38;5;28;01mas\u001b[39;00m \u001b[38;5;21;01mpd\u001b[39;00m\n\u001b[1;32m     17\u001b[0m \u001b[38;5;28;01mfrom\u001b[39;00m \u001b[38;5;21;01mnumpy\u001b[39;00m\u001b[38;5;21;01m.\u001b[39;00m\u001b[38;5;21;01mtyping\u001b[39;00m \u001b[38;5;28;01mimport\u001b[39;00m NDArray\n\u001b[0;32m---> 19\u001b[0m \u001b[38;5;28;01mfrom\u001b[39;00m \u001b[38;5;21;01mprophet\u001b[39;00m\u001b[38;5;21;01m.\u001b[39;00m\u001b[38;5;21;01mmake_holidays\u001b[39;00m \u001b[38;5;28;01mimport\u001b[39;00m get_holiday_names, make_holidays_df\n\u001b[1;32m     20\u001b[0m \u001b[38;5;28;01mfrom\u001b[39;00m \u001b[38;5;21;01mprophet\u001b[39;00m\u001b[38;5;21;01m.\u001b[39;00m\u001b[38;5;21;01mmodels\u001b[39;00m \u001b[38;5;28;01mimport\u001b[39;00m StanBackendEnum\n\u001b[1;32m     21\u001b[0m \u001b[38;5;28;01mfrom\u001b[39;00m \u001b[38;5;21;01mprophet\u001b[39;00m\u001b[38;5;21;01m.\u001b[39;00m\u001b[38;5;21;01mplot\u001b[39;00m \u001b[38;5;28;01mimport\u001b[39;00m (plot, plot_components)\n",
      "File \u001b[0;32m~/anaconda3/envs/dev/lib/python3.10/site-packages/prophet/make_holidays.py:14\u001b[0m\n\u001b[1;32m     11\u001b[0m \u001b[38;5;28;01mimport\u001b[39;00m \u001b[38;5;21;01mnumpy\u001b[39;00m \u001b[38;5;28;01mas\u001b[39;00m \u001b[38;5;21;01mnp\u001b[39;00m\n\u001b[1;32m     12\u001b[0m \u001b[38;5;28;01mimport\u001b[39;00m \u001b[38;5;21;01mpandas\u001b[39;00m \u001b[38;5;28;01mas\u001b[39;00m \u001b[38;5;21;01mpd\u001b[39;00m\n\u001b[0;32m---> 14\u001b[0m \u001b[38;5;28;01mimport\u001b[39;00m \u001b[38;5;21;01mprophet\u001b[39;00m\u001b[38;5;21;01m.\u001b[39;00m\u001b[38;5;21;01mhdays\u001b[39;00m \u001b[38;5;28;01mas\u001b[39;00m \u001b[38;5;21;01mhdays_part2\u001b[39;00m\n\u001b[1;32m     15\u001b[0m \u001b[38;5;28;01mimport\u001b[39;00m \u001b[38;5;21;01mholidays\u001b[39;00m \u001b[38;5;28;01mas\u001b[39;00m \u001b[38;5;21;01mhdays_part1\u001b[39;00m\n\u001b[1;32m     18\u001b[0m \u001b[38;5;28;01mdef\u001b[39;00m \u001b[38;5;21mget_holiday_names\u001b[39m(country):\n",
      "File \u001b[0;32m~/anaconda3/envs/dev/lib/python3.10/site-packages/prophet/hdays.py:779\u001b[0m\n\u001b[1;32m    771\u001b[0m     \u001b[38;5;28;01mpass\u001b[39;00m\n\u001b[1;32m    774\u001b[0m \u001b[38;5;66;03m# ------------ Holidays in Turkey---------------------\u001b[39;00m\n\u001b[1;32m    775\u001b[0m \u001b[38;5;66;03m# This is now in Holidays, but with alias TR instead of the TU that we used.\u001b[39;00m\n\u001b[1;32m    776\u001b[0m \u001b[38;5;66;03m# Include TU as an alias for backwards compatibility.\u001b[39;00m\n\u001b[0;32m--> 779\u001b[0m \u001b[38;5;28;01mclass\u001b[39;00m \u001b[38;5;21;01mTU\u001b[39;00m(Turkey):\n\u001b[1;32m    780\u001b[0m     \u001b[38;5;28;01mpass\u001b[39;00m\n\u001b[1;32m    783\u001b[0m \u001b[38;5;66;03m# ------------ Holidays in Pakistan---------------------\u001b[39;00m\n",
      "File \u001b[0;32m~/anaconda3/envs/dev/lib/python3.10/site-packages/holidays/registry.py:182\u001b[0m, in \u001b[0;36mEntityLoader.__init__\u001b[0;34m(self, path, *args, **kwargs)\u001b[0m\n\u001b[1;32m    180\u001b[0m \u001b[38;5;250m\u001b[39m\u001b[38;5;124;03m\"\"\"Set up a lazy loader.\"\"\"\u001b[39;00m\n\u001b[1;32m    181\u001b[0m \u001b[38;5;28;01mif\u001b[39;00m args:\n\u001b[0;32m--> 182\u001b[0m     \u001b[38;5;28;01mraise\u001b[39;00m \u001b[38;5;167;01mTypeError\u001b[39;00m(\n\u001b[1;32m    183\u001b[0m         \u001b[38;5;124m\"\u001b[39m\u001b[38;5;124mThis is a python-holidays entity loader class. \u001b[39m\u001b[38;5;124m\"\u001b[39m\n\u001b[1;32m    184\u001b[0m         \u001b[38;5;124m\"\u001b[39m\u001b[38;5;124mFor entity inheritance purposes please import a class you \u001b[39m\u001b[38;5;124m\"\u001b[39m\n\u001b[1;32m    185\u001b[0m         \u001b[38;5;124m\"\u001b[39m\u001b[38;5;124mwant to derive from directly: e.g., \u001b[39m\u001b[38;5;124m\"\u001b[39m\n\u001b[1;32m    186\u001b[0m         \u001b[38;5;124m\"\u001b[39m\u001b[38;5;124m`from holidays.countries import Entity` or \u001b[39m\u001b[38;5;124m\"\u001b[39m\n\u001b[1;32m    187\u001b[0m         \u001b[38;5;124m\"\u001b[39m\u001b[38;5;124m`from holidays.financial import Entity`.\u001b[39m\u001b[38;5;124m\"\u001b[39m\n\u001b[1;32m    188\u001b[0m     )\n\u001b[1;32m    190\u001b[0m entity_path \u001b[38;5;241m=\u001b[39m path\u001b[38;5;241m.\u001b[39msplit(\u001b[38;5;124m\"\u001b[39m\u001b[38;5;124m.\u001b[39m\u001b[38;5;124m\"\u001b[39m)\n\u001b[1;32m    192\u001b[0m \u001b[38;5;28mself\u001b[39m\u001b[38;5;241m.\u001b[39mentity \u001b[38;5;241m=\u001b[39m \u001b[38;5;28;01mNone\u001b[39;00m\n",
      "\u001b[0;31mTypeError\u001b[0m: This is a python-holidays entity loader class. For entity inheritance purposes please import a class you want to derive from directly: e.g., `from holidays.countries import Entity` or `from holidays.financial import Entity`."
     ]
    }
   ],
   "source": [
    "# Import the required libraries and dependencies\n",
    "import pandas as pd\n",
    "import holoviews as hv\n",
    "from prophet import Prophet\n",
    "import hvplot.pandas\n",
    "import datetime as dt\n",
    "%matplotlib inline"
   ]
  },
  {
   "cell_type": "markdown",
   "metadata": {},
   "source": [
    "## Step 1: Find Unusual Patterns in Hourly Google Search Traffic\n",
    "\n",
    "The data science manager asks if the Google search traffic for the company links to any financial events at the company. Or, does the search traffic data just present random noise? To answer this question, pick out any unusual patterns in the Google search data for the company, and connect them to the corporate financial events.\n",
    "\n",
    "To do so, complete the following steps:\n",
    "\n",
    "1. Read the search data into a DataFrame, and then slice the data to just the month of May 2020. (During this month, MercadoLibre released its quarterly financial results.) Use hvPlot to visualize the results. Do any unusual patterns exist?\n",
    "\n",
    "2. Calculate the total search traffic for the month, and then compare the value to the monthly median across all months. Did the Google search traffic increase during the month that MercadoLibre released its financial results?\n"
   ]
  },
  {
   "cell_type": "markdown",
   "metadata": {},
   "source": [
    "#### Step 1: Read the search data into a DataFrame, and then slice the data to just the month of May 2020. (During this month, MercadoLibre released its quarterly financial results.) Use hvPlot to visualize the results. Do any unusual patterns exist?"
   ]
  },
  {
   "cell_type": "code",
   "execution_count": 3,
   "metadata": {},
   "outputs": [
    {
     "ename": "ModuleNotFoundError",
     "evalue": "No module named 'google'",
     "output_type": "error",
     "traceback": [
      "\u001b[0;31m---------------------------------------------------------------------------\u001b[0m",
      "\u001b[0;31mModuleNotFoundError\u001b[0m                       Traceback (most recent call last)",
      "Cell \u001b[0;32mIn[3], line 4\u001b[0m\n\u001b[1;32m      1\u001b[0m \u001b[38;5;66;03m# Upload the \"google_hourly_search_trends.csv\" file into Colab, then store in a Pandas DataFrame\u001b[39;00m\n\u001b[1;32m      2\u001b[0m \u001b[38;5;66;03m# Set the \"Date\" column as the Datetime Index.\u001b[39;00m\n\u001b[0;32m----> 4\u001b[0m \u001b[38;5;28;01mfrom\u001b[39;00m \u001b[38;5;21;01mgoogle\u001b[39;00m\u001b[38;5;21;01m.\u001b[39;00m\u001b[38;5;21;01mcolab\u001b[39;00m \u001b[38;5;28;01mimport\u001b[39;00m files\n\u001b[1;32m      5\u001b[0m uploaded \u001b[38;5;241m=\u001b[39m files\u001b[38;5;241m.\u001b[39mupload()\n\u001b[1;32m      7\u001b[0m \u001b[38;5;66;03m# Assuming the file name is 'google_hourly_search_trends.csv' and the 'Date' column is named 'Date'\u001b[39;00m\n",
      "\u001b[0;31mModuleNotFoundError\u001b[0m: No module named 'google'"
     ]
    }
   ],
   "source": [
    "# Upload the \"google_hourly_search_trends.csv\" file into Colab, then store in a Pandas DataFrame\n",
    "# Set the \"Date\" column as the Datetime Index.\n",
    "\n",
    "from google.colab import files\n",
    "uploaded = files.upload()\n",
    "\n",
    "# Assuming the file name is 'google_hourly_search_trends.csv' and the 'Date' column is named 'Date'\n",
    "df_mercado_trends = pd.read_csv('google_hourly_search_trends.csv', parse_dates=['Date'], index_col='Date')\n",
    "\n",
    "# Review the first and last five rows of the DataFrame\n",
    "print(df_mercado_trends.head())\n",
    "print(df_mercado_trends.tail())"
   ]
  },
  {
   "cell_type": "code",
   "execution_count": null,
   "metadata": {},
   "outputs": [],
   "source": [
    "# Review the data types of the DataFrame using the info function\n",
    "# YOUR CODE HERE\n"
   ]
  },
  {
   "cell_type": "code",
   "execution_count": null,
   "metadata": {},
   "outputs": [],
   "source": [
    "# Holoviews extension to render hvPlots in Colab\n",
    "hv.extension('bokeh')\n",
    "\n",
    "# Slice the DataFrame to just the month of May 2020\n",
    "df_may_2020 = # YOUR CODE HERE\n",
    "\n",
    "# Use hvPlot to visualize the data for May 2020\n",
    "# YOUR CODE HERE\n"
   ]
  },
  {
   "cell_type": "markdown",
   "metadata": {},
   "source": [
    "#### Step 2: Calculate the total search traffic for the month, and then compare the value to the monthly median across all months. Did the Google search traffic increase during the month that MercadoLibre released its financial results?"
   ]
  },
  {
   "cell_type": "code",
   "execution_count": null,
   "metadata": {},
   "outputs": [],
   "source": [
    "# Calculate the sum of the total search traffic for May 2020\n",
    "traffic_may_2020 = # YOUR CODE HERE\n",
    "\n",
    "# View the traffic_may_2020 value\n",
    "# YOUR CODE HERE\n"
   ]
  },
  {
   "cell_type": "code",
   "execution_count": null,
   "metadata": {},
   "outputs": [],
   "source": [
    "# Calcluate the monhtly median search traffic across all months \n",
    "# Group the DataFrame by index year and then index month, chain the sum and then the median functions\n",
    "median_monthly_traffic = # YOUR CODE HERE\n",
    "\n",
    "# View the median_monthly_traffic value\n",
    "# YOUR CODE HERE\n"
   ]
  },
  {
   "cell_type": "code",
   "execution_count": null,
   "metadata": {},
   "outputs": [],
   "source": [
    "# Compare the seach traffic for the month of May 2020 to the overall monthly median value\n",
    "# YOUR CODE HERE\n"
   ]
  },
  {
   "cell_type": "markdown",
   "metadata": {},
   "source": [
    "##### Answer the following question: "
   ]
  },
  {
   "cell_type": "markdown",
   "metadata": {},
   "source": [
    "**Question:** Did the Google search traffic increase during the month that MercadoLibre released its financial results?\n",
    "\n",
    "**Answer:** # YOUR ANSWER HERE"
   ]
  },
  {
   "cell_type": "markdown",
   "metadata": {},
   "source": [
    "## Step 2: Mine the Search Traffic Data for Seasonality\n",
    "\n",
    "Marketing realizes that they can use the hourly search data, too. If they can track and predict interest in the company and its platform for any time of day, they can focus their marketing efforts around the times that have the most traffic. This will get a greater return on investment (ROI) from their marketing budget.\n",
    "\n",
    "To that end, you want to mine the search traffic data for predictable seasonal patterns of interest in the company. To do so, complete the following steps:\n",
    "\n",
    "1. Group the hourly search data to plot the average traffic by the day of the week (for example, Monday vs. Friday).\n",
    "\n",
    "2. Using hvPlot, visualize this traffic as a heatmap, referencing the `index.hour` as the x-axis and the `index.dayofweek` as the y-axis. Does any day-of-week effect that you observe concentrate in just a few hours of that day?\n",
    "\n",
    "3. Group the search data by the week of the year. Does the search traffic tend to increase during the winter holiday period (weeks 40 through 52)?\n"
   ]
  },
  {
   "cell_type": "markdown",
   "metadata": {},
   "source": [
    "#### Step 1: Group the hourly search data to plot the average traffic by the day of the week (for example, Monday vs. Friday)."
   ]
  },
  {
   "cell_type": "code",
   "execution_count": null,
   "metadata": {
    "tags": []
   },
   "outputs": [],
   "source": [
    "# Holoviews extension to render hvPlots in Colab\n",
    "hv.extension('bokeh')\n",
    "\n",
    "# Group the hourly search data to plot (use hvPlot) the average traffic by the day of week \n",
    "# YOUR CODE HERE\n"
   ]
  },
  {
   "cell_type": "markdown",
   "metadata": {},
   "source": [
    "#### Step 2: Using hvPlot, visualize this traffic as a heatmap, referencing the `index.hour` as the x-axis and the `index.dayofweek` as the y-axis. Does any day-of-week effect that you observe concentrate in just a few hours of that day?"
   ]
  },
  {
   "cell_type": "code",
   "execution_count": null,
   "metadata": {},
   "outputs": [],
   "source": [
    "# Holoviews extension to render hvPlots in Colab\n",
    "hv.extension('bokeh')\n",
    "\n",
    "# Use hvPlot to visualize the hour of the day and day of week search traffic as a heatmap.\n",
    "# YOUR CODE HERE\n"
   ]
  },
  {
   "cell_type": "markdown",
   "metadata": {},
   "source": [
    "##### Answer the following question:"
   ]
  },
  {
   "cell_type": "markdown",
   "metadata": {},
   "source": [
    "**Question:** Does any day-of-week effect that you observe concentrate in just a few hours of that day?\n",
    "\n",
    "**Answer:** # YOUR ANSWER HERE"
   ]
  },
  {
   "cell_type": "markdown",
   "metadata": {},
   "source": [
    "#### Step 3: Group the search data by the week of the year. Does the search traffic tend to increase during the winter holiday period (weeks 40 through 52)?"
   ]
  },
  {
   "cell_type": "code",
   "execution_count": null,
   "metadata": {},
   "outputs": [],
   "source": [
    "# Holoviews extension to render hvPlots in Colab\n",
    "hv.extension('bokeh')\n",
    "\n",
    "# Group the hourly search data to plot (use hvPlot) the average traffic by the week of the year\n",
    "# YOUR CODE HERE"
   ]
  },
  {
   "cell_type": "markdown",
   "metadata": {},
   "source": [
    "##### Answer the following question:"
   ]
  },
  {
   "cell_type": "markdown",
   "metadata": {},
   "source": [
    "**Question:** Does the search traffic tend to increase during the winter holiday period (weeks 40 through 52)?\n",
    "\n",
    "**Answer:** # YOUR ANSWER HERE"
   ]
  },
  {
   "cell_type": "markdown",
   "metadata": {},
   "source": [
    "## Step 3: Relate the Search Traffic to Stock Price Patterns\n",
    "\n",
    "You mention your work on the search traffic data during a meeting with people in the finance group at the company. They want to know if any relationship between the search data and the company stock price exists, and they ask if you can investigate.\n",
    "\n",
    "To do so, complete the following steps:\n",
    "\n",
    "1. Read in and plot the stock price data. Concatenate the stock price data to the search data in a single DataFrame.\n",
    "\n",
    "2. Market events emerged during the year of 2020 that many companies found difficult. But, after the initial shock to global financial markets, new customers and revenue increased for e-commerce platforms. Slice the data to just the first half of 2020 (`2020-01` to `2020-06` in the DataFrame), and then use hvPlot to plot the data. Do both time series indicate a common trend that’s consistent with this narrative?\n",
    "\n",
    "3. Create a new column in the DataFrame named “Lagged Search Trends” that offsets, or shifts, the search traffic by one hour. Create two additional columns:\n",
    "\n",
    "    * “Stock Volatility”, which holds an exponentially weighted four-hour rolling average of the company’s stock volatility\n",
    "\n",
    "    * “Hourly Stock Return”, which holds the percent change of the company's stock price on an hourly basis\n",
    "\n",
    "4. Review the time series correlation, and then answer the following question: Does a predictable relationship exist between the lagged search traffic and the stock volatility or between the lagged search traffic and the stock price returns?\n"
   ]
  },
  {
   "cell_type": "markdown",
   "metadata": {},
   "source": [
    "#### Step 1: Read in and plot the stock price data. Concatenate the stock price data to the search data in a single DataFrame."
   ]
  },
  {
   "cell_type": "code",
   "execution_count": null,
   "metadata": {},
   "outputs": [],
   "source": [
    "# Upload the \"mercado_stock_price.csv\" file into Colab, then store in a Pandas DataFrame\n",
    "# Set the \"date\" column as the Datetime Index.\n",
    "from google.colab import files\n",
    "uploaded = files.upload()\n",
    "\n",
    "df_mercado_stock = # YOUR CODE HERE\n",
    "\n",
    "# View the first and last five rows of the DataFrame\n",
    "# YOUR CODE HERE\n"
   ]
  },
  {
   "cell_type": "code",
   "execution_count": null,
   "metadata": {},
   "outputs": [],
   "source": [
    "# Holoviews extension to render hvPlots in Colab\n",
    "hv.extension('bokeh')\n",
    "\n",
    "# Use hvPlot to visualize the closing price of the df_mercado_stock DataFrame\n",
    "# YOUR CODE HERE\n"
   ]
  },
  {
   "cell_type": "code",
   "execution_count": null,
   "metadata": {},
   "outputs": [],
   "source": [
    "# Concatenate the df_mercado_stock DataFrame with the df_mercado_trends DataFrame\n",
    "# Concatenate the DataFrame by columns (axis=1), and drop and rows with only one column of data\n",
    "mercado_stock_trends_df = # YOUR CODE HERE\n",
    "\n",
    "# View the first and last five rows of the DataFrame\n",
    "# YOUR CODE HERE\n"
   ]
  },
  {
   "cell_type": "markdown",
   "metadata": {},
   "source": [
    "#### Step 2: Market events emerged during the year of 2020 that many companies found difficult. But, after the initial shock to global financial markets, new customers and revenue increased for e-commerce platforms. Slice the data to just the first half of 2020 (`2020-01` to `2020-06` in the DataFrame), and then use hvPlot to plot the data. Do both time series indicate a common trend that’s consistent with this narrative?"
   ]
  },
  {
   "cell_type": "code",
   "execution_count": null,
   "metadata": {},
   "outputs": [],
   "source": [
    "# For the combined dataframe, slice to just the first half of 2020 (2020-01 through 2020-06) \n",
    "first_half_2020 = # YOUR CODE HERE\n",
    "\n",
    "# View the first and last five rows of first_half_2020 DataFrame\n",
    "# YOUR CODE HERE\n"
   ]
  },
  {
   "cell_type": "code",
   "execution_count": null,
   "metadata": {},
   "outputs": [],
   "source": [
    "# Holoviews extension to render hvPlots in Colab\n",
    "hv.extension('bokeh')\n",
    "\n",
    "# Use hvPlot to visualize the close and Search Trends data\n",
    "# Plot each column on a separate axes using the following syntax\n",
    "# `hvplot(shared_axes=False, subplots=True).cols(1)`\n",
    "# YOUR CODE HERE\n"
   ]
  },
  {
   "cell_type": "markdown",
   "metadata": {},
   "source": [
    "##### Answer the following question:"
   ]
  },
  {
   "cell_type": "markdown",
   "metadata": {},
   "source": [
    "**Question:** Do both time series indicate a common trend that’s consistent with this narrative?\n",
    "\n",
    "**Answer:** # YOUR ANSWER HERE"
   ]
  },
  {
   "cell_type": "markdown",
   "metadata": {},
   "source": [
    "#### Step 3: Create a new column in the DataFrame named “Lagged Search Trends” that offsets, or shifts, the search traffic by one hour. Create two additional columns:\n",
    "\n",
    "* “Stock Volatility”, which holds an exponentially weighted four-hour rolling average of the company’s stock volatility\n",
    "\n",
    "* “Hourly Stock Return”, which holds the percent change of the company's stock price on an hourly basis\n"
   ]
  },
  {
   "cell_type": "code",
   "execution_count": null,
   "metadata": {},
   "outputs": [],
   "source": [
    "# Create a new column in the mercado_stock_trends_df DataFrame called Lagged Search Trends\n",
    "# This column should shift the Search Trends information by one hour\n",
    "mercado_stock_trends_df['Lagged Search Trends'] = # YOUR CODE HERE\n"
   ]
  },
  {
   "cell_type": "code",
   "execution_count": null,
   "metadata": {},
   "outputs": [],
   "source": [
    "# Create a new column in the mercado_stock_trends_df DataFrame called Stock Volatility\n",
    "# This column should calculate the standard deviation of the closing stock price return data over a 4 period rolling window\n",
    "mercado_stock_trends_df['Stock Volatility'] = # YOUR CODE HERE\n"
   ]
  },
  {
   "cell_type": "code",
   "execution_count": null,
   "metadata": {},
   "outputs": [],
   "source": [
    "# Holoviews extension to render hvPlots in Colab\n",
    "hv.extension('bokeh')\n",
    "\n",
    "# Use hvPlot to visualize the stock volatility\n",
    "# YOUR CODE HERE\n"
   ]
  },
  {
   "cell_type": "markdown",
   "metadata": {},
   "source": [
    "**Solution Note:** Note how volatility spiked, and tended to stay high, during the first half of 2020. This is a common characteristic of volatility in stock returns worldwide: high volatility days tend to be followed by yet more high volatility days. When it rains, it pours."
   ]
  },
  {
   "cell_type": "code",
   "execution_count": null,
   "metadata": {},
   "outputs": [],
   "source": [
    "# Create a new column in the mercado_stock_trends_df DataFrame called Hourly Stock Return\n",
    "# This column should calculate hourly return percentage of the closing price\n",
    "mercado_stock_trends_df['Hourly Stock Return'] = # YOUR CODE HERE\n"
   ]
  },
  {
   "cell_type": "code",
   "execution_count": null,
   "metadata": {},
   "outputs": [],
   "source": [
    "# View the first and last five rows of the mercado_stock_trends_df DataFrame\n",
    "# YOUR CODE HERE\n"
   ]
  },
  {
   "cell_type": "markdown",
   "metadata": {},
   "source": [
    "#### Step 4: Review the time series correlation, and then answer the following question: Does a predictable relationship exist between the lagged search traffic and the stock volatility or between the lagged search traffic and the stock price returns?"
   ]
  },
  {
   "cell_type": "code",
   "execution_count": null,
   "metadata": {},
   "outputs": [],
   "source": [
    "# Construct correlation table of Stock Volatility, Lagged Search Trends, and Hourly Stock Return\n",
    "# YOUR CODE HERE\n"
   ]
  },
  {
   "cell_type": "markdown",
   "metadata": {},
   "source": [
    "##### Answer the following question:\n"
   ]
  },
  {
   "cell_type": "markdown",
   "metadata": {},
   "source": [
    "**Question:** Does a predictable relationship exist between the lagged search traffic and the stock volatility or between the lagged search traffic and the stock price returns?\n",
    "\n",
    "**Answer:** # YOUR ANSWER HERE"
   ]
  },
  {
   "cell_type": "markdown",
   "metadata": {},
   "source": [
    "## Step 4: Create a Time Series Model with Prophet\n",
    "\n",
    "Now, you need to produce a time series model that analyzes and forecasts patterns in the hourly search data. To do so, complete the following steps:\n",
    "\n",
    "1. Set up the Google search data for a Prophet forecasting model.\n",
    "\n",
    "2. After estimating the model, plot the forecast. How's the near-term forecast for the popularity of MercadoLibre?\n",
    "\n",
    "3. Plot the individual time series components of the model to answer the following questions:\n",
    "\n",
    "    * What time of day exhibits the greatest popularity?\n",
    "\n",
    "    * Which day of the week gets the most search traffic?\n",
    "\n",
    "    * What's the lowest point for search traffic in the calendar year?\n"
   ]
  },
  {
   "cell_type": "markdown",
   "metadata": {},
   "source": [
    "#### Step 1: Set up the Google search data for a Prophet forecasting model."
   ]
  },
  {
   "cell_type": "code",
   "execution_count": null,
   "metadata": {},
   "outputs": [],
   "source": [
    "# Using the df_mercado_trends DataFrame, reset the index so the date information is no longer the index\n",
    "mercado_prophet_df = # YOUR CODE HERE\n",
    "\n",
    "# Label the columns ds and y so that the syntax is recognized by Prophet\n",
    "# YOUR CODE HERE\n",
    "\n",
    "# Drop an NaN values from the prophet_df DataFrame\n",
    "mercado_prophet_df = # YOUR CODE HERE\n",
    "\n",
    "# View the first and last five rows of the mercado_prophet_df DataFrame\n",
    "# YOUR CODE HERE\n"
   ]
  },
  {
   "cell_type": "code",
   "execution_count": null,
   "metadata": {},
   "outputs": [],
   "source": [
    "# Call the Prophet function, store as an object\n",
    "model_mercado_trends = # YOUR CODE HERE\n"
   ]
  },
  {
   "cell_type": "code",
   "execution_count": null,
   "metadata": {},
   "outputs": [],
   "source": [
    "# Fit the time-series model.\n",
    "# YOUR CODE HERE\n"
   ]
  },
  {
   "cell_type": "code",
   "execution_count": null,
   "metadata": {},
   "outputs": [],
   "source": [
    "# Create a future dataframe to hold predictions\n",
    "# Make the prediction go out as far as 2000 hours (approx 80 days)\n",
    "future_mercado_trends = # YOUR CODE HERE\n",
    "\n",
    "# View the last five rows of the future_mercado_trends DataFrame\n",
    "# YOUR CODE HERE\n"
   ]
  },
  {
   "cell_type": "code",
   "execution_count": null,
   "metadata": {},
   "outputs": [],
   "source": [
    "# Make the predictions for the trend data using the future_mercado_trends DataFrame\n",
    "forecast_mercado_trends = # YOUR CODE HERE\n",
    "\n",
    "# Display the first five rows of the forecast_mercado_trends DataFrame\n",
    "# YOUR CODE HERE\n"
   ]
  },
  {
   "cell_type": "markdown",
   "metadata": {},
   "source": [
    "#### Step 2: After estimating the model, plot the forecast. How's the near-term forecast for the popularity of MercadoLibre?"
   ]
  },
  {
   "cell_type": "code",
   "execution_count": null,
   "metadata": {},
   "outputs": [],
   "source": [
    "# Plot the Prophet predictions for the Mercado trends data\n",
    "# YOUR CODE HERE"
   ]
  },
  {
   "cell_type": "markdown",
   "metadata": {},
   "source": [
    "##### Answer the following question:"
   ]
  },
  {
   "cell_type": "markdown",
   "metadata": {},
   "source": [
    "**Question:**  How's the near-term forecast for the popularity of MercadoLibre?\n",
    "\n",
    "**Answer:** # YOUR ANSWER HERE\n"
   ]
  },
  {
   "cell_type": "markdown",
   "metadata": {},
   "source": [
    "#### Step 3: Plot the individual time series components of the model to answer the following questions:\n",
    "\n",
    "* What time of day exhibits the greatest popularity?\n",
    "\n",
    "* Which day of the week gets the most search traffic?\n",
    "\n",
    "* What's the lowest point for search traffic in the calendar year?\n"
   ]
  },
  {
   "cell_type": "code",
   "execution_count": null,
   "metadata": {},
   "outputs": [],
   "source": [
    "# Set the index in the forecast_mercado_trends DataFrame to the ds datetime column\n",
    "forecast_mercado_trends = # YOUR CODE HERE\n",
    "\n",
    "# View the only the yhat,yhat_lower and yhat_upper columns from the DataFrame\n",
    "# YOUR CODE HERE\n"
   ]
  },
  {
   "cell_type": "markdown",
   "metadata": {},
   "source": [
    "Solutions Note: `yhat` represents the most likely (average) forecast, whereas `yhat_lower` and `yhat_upper` represents the worst and best case prediction (based on what are known as 95% confidence intervals)."
   ]
  },
  {
   "cell_type": "code",
   "execution_count": null,
   "metadata": {},
   "outputs": [],
   "source": [
    "# Holoviews extension to render hvPlots in Colab\n",
    "hv.extension('bokeh')\n",
    "\n",
    "# From the forecast_mercado_trends DataFrame, use hvPlot to visualize\n",
    "#  the yhat, yhat_lower, and yhat_upper columns over the last 2000 hours \n",
    "# YOUR CODE HERE\n"
   ]
  },
  {
   "cell_type": "code",
   "execution_count": null,
   "metadata": {},
   "outputs": [],
   "source": [
    "# Reset the index in the forecast_mercado_trends DataFrame\n",
    "forecast_mercado_trends = # YOUR CODE HERE\n",
    "\n",
    "# Use the plot_components function to visualize the forecast results \n",
    "# for the forecast_canada DataFrame \n",
    "figures_mercado_trends = # YOUR CODE HERE\n"
   ]
  },
  {
   "cell_type": "markdown",
   "metadata": {},
   "source": [
    "##### Answer the following questions:"
   ]
  },
  {
   "cell_type": "markdown",
   "metadata": {},
   "source": [
    "**Question:** What time of day exhibits the greatest popularity?\n",
    "\n",
    "**Answer:** # YOUR ANSWER HERE"
   ]
  },
  {
   "cell_type": "markdown",
   "metadata": {},
   "source": [
    "**Question:** Which day of week gets the most search traffic? \n",
    "   \n",
    "**Answer:** # YOUR ANSWER HERE"
   ]
  },
  {
   "cell_type": "markdown",
   "metadata": {},
   "source": [
    "**Question:** What's the lowest point for search traffic in the calendar year?\n",
    "\n",
    "**Answer:** # YOUR ANSWER HERE\n"
   ]
  },
  {
   "cell_type": "markdown",
   "metadata": {},
   "source": [
    "## Step 5 (Optional): Forecast Revenue by Using Time Series Models\n",
    "\n",
    "A few weeks after your initial analysis, the finance group follows up to find out if you can help them solve a different problem. Your fame as a growth analyst in the company continues to grow!\n",
    "\n",
    "Specifically, the finance group wants a forecast of the total sales for the next quarter. This will dramatically increase their ability to plan budgets and to help guide expectations for the company investors.\n",
    "\n",
    "To do so, complete the following steps:\n",
    "\n",
    "1. Read in the daily historical sales (that is, revenue) figures, and then apply a Prophet model to the data. The daily sales figures are quoted in millions of USD dollars.\n",
    "\n",
    "2. Interpret the model output to identify any seasonal patterns in the company's revenue. For example, what are the peak revenue days? (Mondays? Fridays? Something else?)\n",
    "\n",
    "3. Produce a sales forecast for the finance group. Give them a number for the expected total sales in the next quarter. Include the best- and worst-case scenarios to help them make better plans.\n",
    "\n",
    "\n"
   ]
  },
  {
   "cell_type": "markdown",
   "metadata": {},
   "source": [
    "#### Step 1: Read in the daily historical sales (that is, revenue) figures, and then apply a Prophet model to the data."
   ]
  },
  {
   "cell_type": "code",
   "execution_count": null,
   "metadata": {},
   "outputs": [],
   "source": [
    "# Upload the \"mercado_daily_revenue.csv\" file into Colab, then store in a Pandas DataFrame\n",
    "# Set the \"date\" column as the DatetimeIndex\n",
    "# Sales are quoted in millions of US dollars\n",
    "from google.colab import files\n",
    "uploaded = files.upload()\n",
    "\n",
    "df_mercado_sales = # YOUR CODE HERE\n",
    "\n",
    "# Review the DataFrame\n",
    "# YOUR CODE HERE\n"
   ]
  },
  {
   "cell_type": "code",
   "execution_count": null,
   "metadata": {},
   "outputs": [],
   "source": [
    "# Holoviews extension to render hvPlots in Colab\n",
    "hv.extension('bokeh')\n",
    "\n",
    "# Use hvPlot to visualize the daily sales figures \n",
    "# YOUR CODE HERE\n"
   ]
  },
  {
   "cell_type": "code",
   "execution_count": null,
   "metadata": {},
   "outputs": [],
   "source": [
    "# Apply a Facebook Prophet model to the data.\n",
    "\n",
    "# Set up the dataframe in the neccessary format:\n",
    "# Reset the index so that date becomes a column in the DataFrame\n",
    "mercado_sales_prophet_df = # YOUR CODE HERE\n",
    "\n",
    "# Adjust the columns names to the Prophet syntax\n",
    "mercado_sales_prophet_df.columns = # YOUR CODE HERE\n",
    "\n",
    "# Visualize the DataFrame\n",
    "# YOUR CODE HERE\n"
   ]
  },
  {
   "cell_type": "code",
   "execution_count": null,
   "metadata": {},
   "outputs": [],
   "source": [
    "# Create the model\n",
    "mercado_sales_prophet_model = # YOUR CODE HERE\n",
    "\n",
    "# Fit the model\n",
    "# YOUR CODE HERE\n"
   ]
  },
  {
   "cell_type": "code",
   "execution_count": null,
   "metadata": {},
   "outputs": [],
   "source": [
    "# Predict sales for 90 days (1 quarter) out into the future.\n",
    "\n",
    "# Start by making a future dataframe\n",
    "mercado_sales_prophet_future = # YOUR CODE HERE\n",
    "\n",
    "# Display the last five rows of the future DataFrame\n",
    "# YOUR CODE HERE\n"
   ]
  },
  {
   "cell_type": "code",
   "execution_count": null,
   "metadata": {},
   "outputs": [],
   "source": [
    "# Make predictions for the sales each day over the next quarter\n",
    "mercado_sales_prophet_forecast = # YOUR CODE HERE\n",
    "\n",
    "# Display the first 5 rows of the resulting DataFrame\n",
    "# YOUR CODE HERE\n"
   ]
  },
  {
   "cell_type": "markdown",
   "metadata": {},
   "source": [
    "#### Step 2: Interpret the model output to identify any seasonal patterns in the company's revenue. For example, what are the peak revenue days? (Mondays? Fridays? Something else?)"
   ]
  },
  {
   "cell_type": "code",
   "execution_count": null,
   "metadata": {},
   "outputs": [],
   "source": [
    "# Use the plot_components function to analyze seasonal patterns in the company's revenue\n",
    "# YOUR CODE HERE\n"
   ]
  },
  {
   "cell_type": "markdown",
   "metadata": {},
   "source": [
    "##### Answer the following question:"
   ]
  },
  {
   "cell_type": "markdown",
   "metadata": {},
   "source": [
    "**Question:** For example, what are the peak revenue days? (Mondays? Fridays? Something else?)\n",
    "\n",
    "**Answer:** # YOUR ANSWER HERE"
   ]
  },
  {
   "cell_type": "markdown",
   "metadata": {},
   "source": [
    "#### Step 3: Produce a sales forecast for the finance group. Give them a number for the expected total sales in the next quarter. Include the best- and worst-case scenarios to help them make better plans."
   ]
  },
  {
   "cell_type": "code",
   "execution_count": null,
   "metadata": {},
   "outputs": [],
   "source": [
    "# Plot the predictions for the Mercado sales\n",
    "# YOUR CODE HERE\n"
   ]
  },
  {
   "cell_type": "code",
   "execution_count": null,
   "metadata": {},
   "outputs": [],
   "source": [
    "# For the mercado_sales_prophet_forecast DataFrame, set the ds column as the DataFrame Index\n",
    "mercado_sales_prophet_forecast = # YOUR CODE HERE\n",
    "\n",
    "# Display the first and last five rows of the DataFrame\n",
    "# YOUR CODE HERE\n"
   ]
  },
  {
   "cell_type": "code",
   "execution_count": null,
   "metadata": {},
   "outputs": [],
   "source": [
    "# Produce a sales forecast for the finance division\n",
    "# giving them a number for expected total sales next quarter.\n",
    "# Provide best case (yhat_upper), worst case (yhat_lower), and most likely (yhat) scenarios.\n",
    "\n",
    "# Create a forecast_quarter Dataframe for the period 2020-07-01 to 2020-09-30\n",
    "# The DataFrame should include the columns yhat_upper, yhat_lower, and yhat\n",
    "mercado_sales_forecast_quarter = # YOUR CODE HERE\n",
    "\n",
    "# Update the column names for the forecast_quarter DataFrame\n",
    "# to match what the finance division is looking for \n",
    "mercado_sales_forecast_quarter = # YOUR CODE HERE\n",
    "\n",
    "# Review the last five rows of the DataFrame\n",
    "# YOUR CODE HERE\n"
   ]
  },
  {
   "cell_type": "code",
   "execution_count": null,
   "metadata": {},
   "outputs": [],
   "source": [
    "# Displayed the summed values for all the rows in the forecast_quarter DataFrame\n",
    "# YOUR CODE HERE\n"
   ]
  },
  {
   "cell_type": "markdown",
   "metadata": {},
   "source": [
    "### Based on the forecast information generated above, produce a sales forecast for the finance division, giving them a number for expected total sales next quarter. Include best and worst case scenarios, to better help the finance team plan.\n",
    "\n",
    "**Answer:** # YOUR ANSWER HERE"
   ]
  },
  {
   "cell_type": "code",
   "execution_count": null,
   "metadata": {},
   "outputs": [],
   "source": []
  }
 ],
 "metadata": {
  "kernelspec": {
   "display_name": "Python 3 (ipykernel)",
   "language": "python",
   "name": "python3"
  },
  "language_info": {
   "codemirror_mode": {
    "name": "ipython",
    "version": 3
   },
   "file_extension": ".py",
   "mimetype": "text/x-python",
   "name": "python",
   "nbconvert_exporter": "python",
   "pygments_lexer": "ipython3",
   "version": "3.10.13"
  }
 },
 "nbformat": 4,
 "nbformat_minor": 4
}
